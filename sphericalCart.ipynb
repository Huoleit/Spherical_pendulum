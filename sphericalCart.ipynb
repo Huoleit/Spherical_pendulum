{
 "cells": [
  {
   "cell_type": "code",
   "execution_count": 20,
   "metadata": {},
   "outputs": [],
   "source": [
    "using StaticArrays\n",
    "using Parameters\n",
    "using RobotDynamics\n",
    "using LinearAlgebra\n",
    "using PyPlot\n",
    "\n",
    "import RobotDynamics: dynamics\n",
    "import RobotDynamics: state_dim, control_dim"
   ]
  },
  {
   "cell_type": "code",
   "execution_count": 3,
   "metadata": {},
   "outputs": [
    {
     "data": {
      "text/plain": [
       "SphericalPendulum"
      ]
     },
     "execution_count": 3,
     "metadata": {},
     "output_type": "execute_result"
    }
   ],
   "source": [
    "@with_kw struct SphericalPendulum{T} <: AbstractModel\n",
    "    m::T = 0.3\n",
    "    L::T = 0.2\n",
    "    g::T = 9.81\n",
    "    mc::T = 2.0\n",
    "    b::T = 0.3\n",
    "end"
   ]
  },
  {
   "cell_type": "code",
   "execution_count": 4,
   "metadata": {},
   "outputs": [
    {
     "data": {
      "text/plain": [
       "dynamics (generic function with 9 methods)"
      ]
     },
     "execution_count": 4,
     "metadata": {},
     "output_type": "execute_result"
    }
   ],
   "source": [
    "function dynamics(p::SphericalPendulum, x, u)\n",
    "    @unpack m, L, g ,mc, b= p\n",
    "    cx = x[1]\n",
    "    cy = x[2]\n",
    "    ϕ = x[3]\n",
    "    θ = x[4]\n",
    "    \n",
    "    cẋ = x[5]\n",
    "    cẏ = x[6]\n",
    "    ϕ̇ = x[7]\n",
    "    θ̇ = x[8]\n",
    "    \n",
    "    fx = u[1]\n",
    "    fy = u[2]\n",
    "    \n",
    "    cẍ = ((L*fx*m*cos(ϕ) + L*fx*mc*cos(ϕ) - \n",
    "        b*m*θ̇*cos(θ) - b*mc*θ̇*cos(θ) - \n",
    "        L*fx*m*cos(ϕ)^3 + b*m*θ̇*cos(ϕ)^2*cos(θ) + \n",
    "        b*m*ϕ̇*cos(ϕ)*sin(ϕ)*sin(θ) + \n",
    "        b*mc*ϕ̇*cos(ϕ)*sin(ϕ)*sin(θ) + \n",
    "        L*fy*m*cos(ϕ)^2*sin(ϕ)*sin(θ) - \n",
    "        L^2*m*mc*ϕ̇^2*cos(ϕ)^2*sin(θ) - \n",
    "        L^2*m*mc*θ̇^2*cos(ϕ)^4*sin(θ) - \n",
    "        L*g*m*mc*cos(ϕ)^3*cos(θ)*sin(θ))/\n",
    "        (L*mc*cos(ϕ)*(m + mc - m*cos(ϕ)^2*cos(θ)^2)))\n",
    "    \n",
    "    cÿ = ((L*fy*mc + b*m*ϕ̇*cos(ϕ) + b*mc*ϕ̇*cos(ϕ) + \n",
    "        L*fy*m*cos(ϕ)^2 + L^2*m*mc*ϕ̇^2*sin(ϕ) - \n",
    "        b*m*ϕ̇*cos(ϕ)*cos(θ)^2 - L*fy*m*cos(ϕ)^2*cos(θ)^2 + \n",
    "        L*fx*m*cos(ϕ)*sin(ϕ)*sin(θ) - \n",
    "        b*m*θ̇*cos(θ)*sin(ϕ)*sin(θ) + L^2*m*mc*θ̇^2*cos(ϕ)^2*sin(ϕ) + \n",
    "        L*g*m*mc*cos(ϕ)*cos(θ)*sin(ϕ))/\n",
    "        (L*mc*(m + mc - m*cos(ϕ)^2*cos(θ)^2)))\n",
    "\n",
    "    \n",
    "    ϕ̈ = (-(L*fy*m^2*cos(ϕ)^2 + b*m^2*ϕ̇*cos(ϕ) + \n",
    "        b*mc^2*ϕ̇*cos(ϕ) - b*m^2*ϕ̇*cos(ϕ)*cos(θ)^2 + \n",
    "        L*fy*m*mc*cos(ϕ)^2 - L*fy*m^2*cos(ϕ)^2*cos(θ)^2 + \n",
    "        2*b*m*mc*ϕ̇*cos(ϕ) - b*m*mc*ϕ̇*cos(ϕ)*cos(θ)^2 + \n",
    "        L^2*m*mc^2*θ̇^2*cos(ϕ)^2*sin(ϕ) + L^2*m^2*mc*θ̇^2*cos(ϕ)^2*sin(ϕ) + \n",
    "        L*fx*m^2*cos(ϕ)*sin(ϕ)*sin(θ) - b*m^2*θ̇*cos(θ)*sin(ϕ)*sin(θ) + \n",
    "        L^2*m^2*mc*ϕ̇^2*cos(ϕ)^2*cos(θ)^2*sin(ϕ) + L*fx*m*mc*cos(ϕ)*sin(ϕ)*sin(θ) - \n",
    "        b*m*mc*θ̇*cos(θ)*sin(ϕ)*sin(θ) + L*g*m*mc^2*cos(ϕ)*cos(θ)*sin(ϕ) + \n",
    "        L*g*m^2*mc*cos(ϕ)*cos(θ)*sin(ϕ))/(L^2*m*mc*cos(ϕ)*(m + mc - m*cos(ϕ)^2*cos(θ)^2)))\n",
    "    \n",
    "    θ̈ = (-(b*mc^2*θ̇ + b*m*mc*θ̇ + b*m^2*θ̇*cos(θ)^2 + \n",
    "        b*m*mc*θ̇*cos(θ)^2 - b*m^2*θ̇*cos(ϕ)^2*cos(θ)^2 -\n",
    "        L*fx*m^2*cos(ϕ)*cos(θ) + L*fx*m^2*cos(ϕ)^3*cos(θ) +\n",
    "        L*g*m*mc^2*cos(ϕ)*sin(θ) + L*g*m^2*mc*cos(ϕ)*sin(θ) -\n",
    "        L^2*m*mc^2*ϕ̇*θ̇*sin(2*ϕ) - L^2*m^2*mc*ϕ̇*θ̇*sin(2*ϕ) - \n",
    "        b*m*mc*θ̇*cos(ϕ)^2*cos(θ)^2 - L*fx*m*mc*cos(ϕ)*cos(θ) +\n",
    "        L^2*m^2*mc*ϕ̇^2*cos(ϕ)^2*cos(θ)*sin(θ) +\n",
    "        L^2*m^2*mc*θ̇^2*cos(ϕ)^4*cos(θ)*sin(θ) -\n",
    "        b*m^2*ϕ̇*cos(ϕ)*cos(θ)*sin(ϕ)*sin(θ) - \n",
    "        L*fy*m^2*cos(ϕ)^2*cos(θ)*sin(ϕ)*sin(θ) +\n",
    "        2*L^2*m^2*mc*ϕ̇*θ̇*cos(ϕ)^3*cos(θ)^2*sin(ϕ) -\n",
    "        b*m*mc*ϕ̇*cos(ϕ)*cos(θ)*sin(ϕ)*sin(θ))/\n",
    "        (L^2*m*mc*cos(ϕ)^2*(m + mc - m*cos(ϕ)^2*cos(θ)^2)))\n",
    "\n",
    "    @SVector [cẋ, cẏ, ϕ̇, θ̇, cẍ, cÿ, ϕ̈, θ̈]\n",
    "end"
   ]
  },
  {
   "cell_type": "code",
   "execution_count": 5,
   "metadata": {},
   "outputs": [
    {
     "data": {
      "text/plain": [
       "control_dim (generic function with 4 methods)"
      ]
     },
     "execution_count": 5,
     "metadata": {},
     "output_type": "execute_result"
    }
   ],
   "source": [
    "state_dim(::SphericalPendulum) = 8\n",
    "control_dim(::SphericalPendulum) = 2"
   ]
  },
  {
   "cell_type": "code",
   "execution_count": 6,
   "metadata": {},
   "outputs": [],
   "source": [
    "using Colors\n",
    "using CoordinateTransformations\n",
    "using Rotations\n",
    "using GeometryBasics\n",
    "using MeshCat"
   ]
  },
  {
   "cell_type": "code",
   "execution_count": 67,
   "metadata": {},
   "outputs": [
    {
     "name": "stderr",
     "output_type": "stream",
     "text": [
      "┌ Info: MeshCat server started. You can open the visualizer by visiting the following URL in your browser:\n",
      "│ http://127.0.0.1:8702\n",
      "└ @ MeshCat /Users/boom/.julia/packages/MeshCat/GlCMx/src/visualizer.jl:73\n"
     ]
    },
    {
     "data": {
      "text/html": [
       "    <div style=\"height: 500px; width: 100%; overflow-x: auto; overflow-y: hidden; resize: both\">\n",
       "    <iframe src=\"http://127.0.0.1:8702\" style=\"width: 100%; height: 100%; border: none\"></iframe>\n",
       "    </div>\n"
      ],
      "text/plain": [
       "MeshCat.DisplayedVisualizer(MeshCat.CoreVisualizer(MeshCat.SceneTrees.SceneNode(nothing, nothing, Dict{String,Array{UInt8,1}}(), nothing, Dict{String,MeshCat.SceneTrees.SceneNode}()), Set{Any}(), ip\"127.0.0.1\", 8702))"
      ]
     },
     "execution_count": 67,
     "metadata": {},
     "output_type": "execute_result"
    }
   ],
   "source": [
    "vis = Visualizer()\n",
    "render(vis)"
   ]
  },
  {
   "cell_type": "code",
   "execution_count": 95,
   "metadata": {},
   "outputs": [
    {
     "data": {
      "text/plain": [
       "visualize! (generic function with 1 method)"
      ]
     },
     "execution_count": 95,
     "metadata": {},
     "output_type": "execute_result"
    }
   ],
   "source": [
    "p = SphericalPendulum(L = 0.5, b = 0.0001)\n",
    "\n",
    "kinematics(x) = (x[1] - p.L*cos(x[3])*sin(x[4]),x[2] + p.L*sin(x[3]), -p.L*cos(x[3])*cos(x[4]))\n",
    "\n",
    "function visualize!(vis, model::SphericalPendulum, X, Δt)\n",
    "    setobject!(vis[:ball], Sphere(Point3f0(0), 0.1),  \n",
    "        MeshPhongMaterial(color = RGBA(0, 1, 0, 1.0)))\n",
    "    \n",
    "    dim = Vec(0.1, 0.3, 0.1)\n",
    "    cart = Rect3D(-dim/2, dim)\n",
    "    setobject!(vis[:cart],  cart,  \n",
    "        MeshPhongMaterial(color = colorant\"red\"))\n",
    "\n",
    "    pole = Cylinder(Point3f0(0,0,0),Point3f0(0,0,model.L),0.01f0)\n",
    "    setobject!(vis[:pole], pole, MeshPhongMaterial(color=colorant\"blue\"))\n",
    "    \n",
    "    anim = MeshCat.Animation(convert(Int, floor(1.0 / Δt)))\n",
    "    for (i, x) in enumerate(X)\n",
    "        MeshCat.atframe(anim, i) do\n",
    "            trans = Translation(x[1], x[2],  0)\n",
    "            rot = LinearMap(RotY(x[4])) ∘ LinearMap(RotX(π + x[3]))\n",
    "            settransform!(vis[:ball], Translation(kinematics(x)...))\n",
    "            settransform!(vis[:pole], trans ∘ rot)\n",
    "            settransform!(vis[:cart], trans)\n",
    "        end\n",
    "    end\n",
    "    MeshCat.setanimation!(vis, anim)\n",
    "end"
   ]
  },
  {
   "cell_type": "code",
   "execution_count": 14,
   "metadata": {},
   "outputs": [
    {
     "data": {
      "text/plain": [
       "dynamics_rk4 (generic function with 1 method)"
      ]
     },
     "execution_count": 14,
     "metadata": {},
     "output_type": "execute_result"
    }
   ],
   "source": [
    "function dynamics_rk4(a::SphericalPendulum,x,u,h)\n",
    "    f1 = dynamics(a, x, u)\n",
    "    f2 = dynamics(a, x + 0.5*h*f1, u)\n",
    "    f3 = dynamics(a, x + 0.5*h*f2, u)\n",
    "    f4 = dynamics(a, x + h*f3, u)\n",
    "    result = x + (h/6.0)*(f1 + 2*f2 + 2*f3 + f4)\n",
    "    return result\n",
    "end"
   ]
  },
  {
   "cell_type": "code",
   "execution_count": 73,
   "metadata": {},
   "outputs": [],
   "source": [
    "tf = 10.0\n",
    "Δt = 0.01\n",
    "time = range(0, tf, step=Δt)\n",
    "N = Int(round(tf/Δt)) + 1\n",
    "\n",
    "init_pos = @SVector zeros(8)\n",
    "X = [@SVector zeros(8) for k = 1:N] \n",
    "\n",
    "direction = 1\n",
    "for k = 1:length(time) - 1\n",
    "#     try\n",
    "    if k==100\n",
    "        direction = -direction\n",
    "    elseif (k-100)%200 == 0\n",
    "        direction = -direction\n",
    "    end\n",
    "        X[k+1] = dynamics_rk4(p,X[k],direction*[2.0, 1.0],Δt)\n",
    "#     catch DomainError\n",
    "#         @show (X)\n",
    "#     end\n",
    "end\n",
    "\n",
    "visualize!(vis, p, X, Δt)"
   ]
  },
  {
   "cell_type": "code",
   "execution_count": 74,
   "metadata": {},
   "outputs": [
    {
     "data": {
      "image/png": "[encoded data removed]",
      "text/plain": [
       "Figure(PyObject <Figure size 640x480 with 1 Axes>)"
      ]
     },
     "metadata": {},
     "output_type": "display_data"
    },
    {
     "data": {
      "text/plain": [
       "1-element Array{PyCall.PyObject,1}:\n",
       " PyObject <matplotlib.lines.Line2D object at 0x7fd81dd3d0a0>"
      ]
     },
     "execution_count": 74,
     "metadata": {},
     "output_type": "execute_result"
    }
   ],
   "source": [
    "thist = Array(range(0,Δt*(N-1), step=Δt))\n",
    "plot(thist, [x[3] for x in X])\n"
   ]
  },
  {
   "cell_type": "code",
   "execution_count": 27,
   "metadata": {},
   "outputs": [
    {
     "name": "stderr",
     "output_type": "stream",
     "text": [
      "┌ Info: Precompiling Altro [5dcf52e5-e2fb-48e0-b826-96f46d2e3e73]\n",
      "└ @ Base loading.jl:1278\n"
     ]
    }
   ],
   "source": [
    "using TrajectoryOptimization\n",
    "using Altro"
   ]
  },
  {
   "cell_type": "code",
   "execution_count": 87,
   "metadata": {},
   "outputs": [
    {
     "data": {
      "text/plain": [
       "Objective"
      ]
     },
     "execution_count": 87,
     "metadata": {},
     "output_type": "execute_result"
    }
   ],
   "source": [
    "tf = 10.0\n",
    "Δt = 0.01\n",
    "time = range(0, tf, step=Δt)\n",
    "N = Int(round(tf/Δt)) + 1\n",
    "\n",
    "n,m = size(p)\n",
    "Q = 1.0e-2*Diagonal(@SVector ones(n))\n",
    "Qf = 100.0*Diagonal(@SVector ones(n))\n",
    "R = 1.0e-1*Diagonal(@SVector ones(m))\n",
    "x0 = zeros(n)\n",
    "xf = SA[-1.0,0,0,0,0,0,0,0]\n",
    "obj = LQRObjective(Q,R,Qf,xf,N)\n",
    "\n",
    "# costs = map(1:N) do i\n",
    "#     if i == 300\n",
    "#         LQRCost(Q, R, [3.0,2.0,])\n",
    "#     elseif i == 600\n",
    "        \n",
    "#     else\n",
    "        \n",
    "#     end\n",
    "# end\n"
   ]
  },
  {
   "cell_type": "code",
   "execution_count": 91,
   "metadata": {},
   "outputs": [
    {
     "name": "stdout",
     "output_type": "stream",
     "text": [
      "\u001b[32;1m\n",
      "SOLVE COMPLETED\n",
      "\u001b[0m solved using the \u001b[0m\u001b[36;1mALTRO\u001b[0m Solver,\n",
      " part of the Altro.jl package developed by the REx Lab at Stanford and Carnegie Mellon Universities\n",
      "\u001b[34;1m\n",
      "  Solve Statistics\n",
      "\u001b[0m    Total Iterations: 21\n",
      "\u001b[0m    Solve Time: 1980.3882279999998 (ms)\n",
      "\u001b[34;1m\n",
      "  Covergence\n",
      "\u001b[0m    Terminal Cost: 2.0582408176220373\n",
      "\u001b[0m    Terminal dJ: \u001b[32m-0.01860071783944539\n",
      "\u001b[0m    Terminal gradient: \u001b[32m0.0006977268164063731\n",
      "\u001b[0m    Terminal constraint violation: \u001b[31m0.00022621528991799422\n",
      "\u001b[0m    Solve Status: \u001b[1m\u001b[32mSOLVE_SUCCEEDED\n",
      "\u001b[0m"
     ]
    }
   ],
   "source": [
    "u0 = @SVector zeros(m)\n",
    "U0 = [u0 for k = 1:N-1]\n",
    "\n",
    "conSet = ConstraintList(n,m,N)\n",
    "x_bnd = [Inf,Inf,0.06,0.06,Inf,Inf,Inf,Inf]\n",
    "bnd = BoundConstraint(n, m, x_min=-x_bnd, x_max=x_bnd)\n",
    "goal = GoalConstraint(xf)\n",
    "waypoint = GoalConstraint([3,2,0,0,0,0,0,0], [1,2])\n",
    "add_constraint!(conSet, bnd, 1:N-1)\n",
    "add_constraint!(conSet, waypoint, 500)\n",
    "add_constraint!(conSet, goal, N)\n",
    "\n",
    "prob = Problem(p, obj, xf, tf, x0=x0, constraints=conSet)\n",
    "initial_controls!(prob, U0)\n",
    "opts = SolverOptions(\n",
    "    cost_tolerance_intermediate=1e-2,\n",
    "    penalty_scaling=10.,\n",
    "    penalty_initial=1.0\n",
    ")\n",
    "altro = ALTROSolver(prob, opts)\n",
    "solve!(altro);"
   ]
  },
  {
   "cell_type": "code",
   "execution_count": 78,
   "metadata": {
    "scrolled": true
   },
   "outputs": [
    {
     "data": {
      "text/html": [
       "    <div style=\"height: 500px; width: 100%; overflow-x: auto; overflow-y: hidden; resize: both\">\n",
       "    <iframe src=\"http://127.0.0.1:8702\" style=\"width: 100%; height: 100%; border: none\"></iframe>\n",
       "    </div>\n"
      ],
      "text/plain": [
       "MeshCat.DisplayedVisualizer(MeshCat.CoreVisualizer(MeshCat.SceneTrees.SceneNode(nothing, nothing, Dict{String,Array{UInt8,1}}(), UInt8[0x83, 0xa7, 0x6f, 0x70, 0x74, 0x69, 0x6f, 0x6e, 0x73, 0x82  …  0x5f, 0x61, 0x6e, 0x69, 0x6d, 0x61, 0x74, 0x69, 0x6f, 0x6e], Dict{String,MeshCat.SceneTrees.SceneNode}(\"meshcat\" => MeshCat.SceneTrees.SceneNode(nothing, nothing, Dict{String,Array{UInt8,1}}(), nothing, Dict{String,MeshCat.SceneTrees.SceneNode}(\"pole\" => MeshCat.SceneTrees.SceneNode(UInt8[0x83, 0xa6, 0x6f, 0x62, 0x6a, 0x65, 0x63, 0x74, 0x84, 0xaa  …  0x73, 0x68, 0x63, 0x61, 0x74, 0x2f, 0x70, 0x6f, 0x6c, 0x65], nothing, Dict{String,Array{UInt8,1}}(), nothing, Dict{String,MeshCat.SceneTrees.SceneNode}()),\"ball\" => MeshCat.SceneTrees.SceneNode(UInt8[0x83, 0xa6, 0x6f, 0x62, 0x6a, 0x65, 0x63, 0x74, 0x84, 0xaa  …  0x73, 0x68, 0x63, 0x61, 0x74, 0x2f, 0x62, 0x61, 0x6c, 0x6c], nothing, Dict{String,Array{UInt8,1}}(), nothing, Dict{String,MeshCat.SceneTrees.SceneNode}()),\"cart\" => MeshCat.SceneTrees.SceneNode(UInt8[0x83, 0xa6, 0x6f, 0x62, 0x6a, 0x65, 0x63, 0x74, 0x84, 0xaa  …  0x73, 0x68, 0x63, 0x61, 0x74, 0x2f, 0x63, 0x61, 0x72, 0x74], nothing, Dict{String,Array{UInt8,1}}(), nothing, Dict{String,MeshCat.SceneTrees.SceneNode}()))))), Set(Any[WebSocket(server, \u001b[32mCONNECTED\u001b[39m)]), ip\"127.0.0.1\", 8702))"
      ]
     },
     "execution_count": 78,
     "metadata": {},
     "output_type": "execute_result"
    }
   ],
   "source": [
    "render(vis)"
   ]
  },
  {
   "cell_type": "code",
   "execution_count": 96,
   "metadata": {},
   "outputs": [],
   "source": [
    "X = states(altro)\n",
    "visualize!(vis, p, X, Δt)"
   ]
  },
  {
   "cell_type": "code",
   "execution_count": 93,
   "metadata": {},
   "outputs": [
    {
     "data": {
      "image/png": "[encoded data removed]",
      "text/plain": [
       "Figure(PyObject <Figure size 640x480 with 1 Axes>)"
      ]
     },
     "metadata": {},
     "output_type": "display_data"
    },
    {
     "data": {
      "text/plain": [
       "1-element Array{PyCall.PyObject,1}:\n",
       " PyObject <matplotlib.lines.Line2D object at 0x7fd803c2aa90>"
      ]
     },
     "execution_count": 93,
     "metadata": {},
     "output_type": "execute_result"
    }
   ],
   "source": [
    "thist = Array(range(0,Δt*(N-1), step=Δt))\n",
    "plot(thist, [x[4] for x in X])"
   ]
  },
  {
   "cell_type": "code",
   "execution_count": null,
   "metadata": {},
   "outputs": [],
   "source": []
  }
 ],
 "metadata": {
  "@webio": {
   "lastCommId": null,
   "lastKernelId": null
  },
  "kernelspec": {
   "display_name": "Julia 1.5.3",
   "language": "julia",
   "name": "julia-1.5"
  },
  "language_info": {
   "file_extension": ".jl",
   "mimetype": "application/julia",
   "name": "julia",
   "version": "1.5.3"
  }
 },
 "nbformat": 4,
 "nbformat_minor": 4
}
