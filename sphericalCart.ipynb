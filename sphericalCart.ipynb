{
 "cells": [
  {
   "cell_type": "code",
   "execution_count": 1,
   "metadata": {},
   "outputs": [],
   "source": [
    "using StaticArrays\n",
    "using Parameters\n",
    "using RobotDynamics\n",
    "using LinearAlgebra\n",
    "\n",
    "import RobotDynamics: dynamics\n",
    "import RobotDynamics: state_dim, control_dim"
   ]
  },
  {
   "cell_type": "code",
   "execution_count": 2,
   "metadata": {},
   "outputs": [
    {
     "data": {
      "text/plain": [
       "SphericalPendulum"
      ]
     },
     "execution_count": 2,
     "metadata": {},
     "output_type": "execute_result"
    }
   ],
   "source": [
    "@with_kw struct SphericalPendulum{T} <: AbstractModel\n",
    "    m::T = 0.3\n",
    "    length::T = 0.2\n",
    "    g::T = 9.81\n",
    "end"
   ]
  },
  {
   "cell_type": "code",
   "execution_count": 15,
   "metadata": {},
   "outputs": [
    {
     "data": {
      "text/plain": [
       "dynamics (generic function with 9 methods)"
      ]
     },
     "execution_count": 15,
     "metadata": {},
     "output_type": "execute_result"
    }
   ],
   "source": [
    "function dynamics(p::SphericalPendulum, x, u)\n",
    "    @unpack m, length, g = p\n",
    "    θ = x[1]\n",
    "    ϕ = x[2]\n",
    "    θ̇ = x[3]\n",
    "    ϕ̇ = x[4]\n",
    "    \n",
    "    θ̈ = ϕ̇^2*cos(θ)*sin(θ)-g/length*sin(θ)\n",
    "    ϕ̈ = -2.0*ϕ̇*θ̇/tan(θ)\n",
    "    @SVector [θ̇, ϕ̇, θ̈, ϕ̈]\n",
    "end"
   ]
  },
  {
   "cell_type": "code",
   "execution_count": 4,
   "metadata": {},
   "outputs": [
    {
     "data": {
      "text/plain": [
       "control_dim (generic function with 4 methods)"
      ]
     },
     "execution_count": 4,
     "metadata": {},
     "output_type": "execute_result"
    }
   ],
   "source": [
    "state_dim(::SphericalPendulum) = 4\n",
    "control_dim(::SphericalPendulum) = 0"
   ]
  },
  {
   "cell_type": "code",
   "execution_count": 5,
   "metadata": {},
   "outputs": [
    {
     "name": "stderr",
     "output_type": "stream",
     "text": [
      "┌ Info: Precompiling GeometryBasics [5c1252a2-5f33-56bf-86c9-59e7332b4326]\n",
      "└ @ Base loading.jl:1278\n",
      "┌ Info: Precompiling MeshCat [283c5d60-a78f-5afe-a0af-af636b173e11]\n",
      "└ @ Base loading.jl:1278\n"
     ]
    }
   ],
   "source": [
    "using Colors\n",
    "using CoordinateTransformations\n",
    "using Rotations\n",
    "using GeometryBasics\n",
    "using MeshCat"
   ]
  },
  {
   "cell_type": "code",
   "execution_count": 6,
   "metadata": {},
   "outputs": [
    {
     "name": "stderr",
     "output_type": "stream",
     "text": [
      "┌ Info: MeshCat server started. You can open the visualizer by visiting the following URL in your browser:\n",
      "│ http://127.0.0.1:8700\n",
      "└ @ MeshCat /Users/boom/.julia/packages/MeshCat/GlCMx/src/visualizer.jl:73\n"
     ]
    },
    {
     "data": {
      "text/html": [
       "    <div style=\"height: 500px; width: 100%; overflow-x: auto; overflow-y: hidden; resize: both\">\n",
       "    <iframe src=\"http://127.0.0.1:8700\" style=\"width: 100%; height: 100%; border: none\"></iframe>\n",
       "    </div>\n"
      ],
      "text/plain": [
       "MeshCat.DisplayedVisualizer(MeshCat.CoreVisualizer(MeshCat.SceneTrees.SceneNode(nothing, nothing, Dict{String,Array{UInt8,1}}(), nothing, Dict{String,MeshCat.SceneTrees.SceneNode}()), Set{Any}(), ip\"127.0.0.1\", 8700))"
      ]
     },
     "execution_count": 6,
     "metadata": {},
     "output_type": "execute_result"
    }
   ],
   "source": [
    "vis = Visualizer()\n",
    "render(vis)"
   ]
  },
  {
   "cell_type": "code",
   "execution_count": 7,
   "metadata": {},
   "outputs": [
    {
     "data": {
      "text/plain": [
       "visualize! (generic function with 1 method)"
      ]
     },
     "execution_count": 7,
     "metadata": {},
     "output_type": "execute_result"
    }
   ],
   "source": [
    "L = 1.0\n",
    "p = SphericalPendulum(length = L)\n",
    "\n",
    "kinematics(x) = (L*sin(x[1])*cos(x[2]), L*sin(x[1])*sin(x[2]), -L*cos(x[1]))\n",
    "\n",
    "function visualize!(vis, model::SphericalPendulum, X, Δt)\n",
    "    setobject!(vis[:ball], Sphere(Point3f0(0), 0.1),  \n",
    "        MeshPhongMaterial(color = RGBA(0, 1, 0, 1.0)))\n",
    "\n",
    "#     coordinates = [Point(.0, .0, .0), Point(.0, .0, -L)]\n",
    "#     setobject!(vis[:line], Object(PointCloud(coordinates), \n",
    "#             LineBasicMaterial(color=RGBA{Float32}(1.0, 0.5, 0.14)), \n",
    "#             \"Line\"))\n",
    "    pole = Cylinder(Point3f0(0,0,0),Point3f0(0,0,model.length),0.01f0)\n",
    "    setobject!(vis[:pole], pole, MeshPhongMaterial(color=colorant\"blue\"))\n",
    "    \n",
    "    anim = MeshCat.Animation(convert(Int, floor(1.0 / Δt)))\n",
    "    for (i, x) in enumerate(X)\n",
    "        MeshCat.atframe(anim, i) do\n",
    "            rot = LinearMap(RotZ(x[2])) ∘ LinearMap(RotY(π-x[1]))\n",
    "            settransform!(vis[:ball], Translation(kinematics(x)...))\n",
    "            settransform!(vis[:pole], rot)\n",
    "            \n",
    "#             coordinates = [Point(.0, .0, .0), Point(kinematics(x))]\n",
    "#             setobject!(vis[:line], Object(PointCloud(coordinates), \n",
    "#             LineBasicMaterial(color=RGBA{Float32}(1.0, 0.5, 0.14)), \n",
    "#             \"Line\"))\n",
    "        end\n",
    "    end\n",
    "    MeshCat.setanimation!(vis, anim)\n",
    "end"
   ]
  },
  {
   "cell_type": "code",
   "execution_count": 33,
   "metadata": {},
   "outputs": [
    {
     "data": {
      "text/plain": [
       "dynamics_rk4 (generic function with 1 method)"
      ]
     },
     "execution_count": 33,
     "metadata": {},
     "output_type": "execute_result"
    }
   ],
   "source": [
    "function dynamics_rk4(a::SphericalPendulum,x,u,h)\n",
    "    f1 = dynamics(a, x, u)\n",
    "    f2 = dynamics(a, x + 0.5*h*f1, u)\n",
    "    f3 = dynamics(a, x + 0.5*h*f2, u)\n",
    "    f4 = dynamics(a, x + h*f3, u)\n",
    "    result = x + (h/6.0)*(f1 + 2*f2 + 2*f3 + f4)\n",
    "    return result\n",
    "end"
   ]
  },
  {
   "cell_type": "code",
   "execution_count": 36,
   "metadata": {},
   "outputs": [],
   "source": [
    "tf = 10.0\n",
    "Δt = 0.01\n",
    "time = range(0, tf, step=Δt)\n",
    "N = Int(round(tf/Δt)) + 1\n",
    "\n",
    "init_pos = @SVector [π/10, π/10, 0.00001, 0.9]\n",
    "X = [@SVector zeros(4) for k = 1:N] \n",
    "X[1] = init_pos\n",
    "\n",
    "for k = 1:length(time) - 1\n",
    "    try\n",
    "        X[k+1] = dynamics_rk4(p,X[k],0,Δt)\n",
    "    catch DomainError\n",
    "        @show (X)\n",
    "    end\n",
    "end\n",
    "\n",
    "visualize!(vis, p, X, Δt)"
   ]
  },
  {
   "cell_type": "code",
   "execution_count": null,
   "metadata": {},
   "outputs": [],
   "source": []
  }
 ],
 "metadata": {
  "@webio": {
   "lastCommId": null,
   "lastKernelId": null
  },
  "kernelspec": {
   "display_name": "Julia 1.5.3",
   "language": "julia",
   "name": "julia-1.5"
  },
  "language_info": {
   "file_extension": ".jl",
   "mimetype": "application/julia",
   "name": "julia",
   "version": "1.5.3"
  }
 },
 "nbformat": 4,
 "nbformat_minor": 4
}
